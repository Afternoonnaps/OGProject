{
 "cells": [
  {
   "cell_type": "code",
   "execution_count": 2,
   "metadata": {},
   "outputs": [
    {
     "name": "stdout",
     "output_type": "stream",
     "text": [
      "USA    4585\n",
      "URS    2049\n",
      "GBR    1720\n",
      "FRA    1396\n",
      "GER    1305\n",
      "ITA    1296\n",
      "AUS    1189\n",
      "HUN    1079\n",
      "SWE    1044\n",
      "NED     851\n",
      "GDR     825\n",
      "CHN     807\n",
      "JPN     788\n",
      "RUS     768\n",
      "CAN     649\n",
      "Name: Country, dtype: int64\n"
     ]
    }
   ],
   "source": [
    "import pandas as pd \n",
    "\n",
    "medals = pd.read_csv('summer.csv')\n",
    "\n",
    "# Select the 'Country' column of medals: country_names\n",
    "country_names = medals.loc[:,'Country']\n",
    "\n",
    "# Count the number of medals won by each country: medal_counts\n",
    "medal_counts = country_names.value_counts()\n",
    "\n",
    "# Print top 15 countries ranked by medals\n",
    "print(medal_counts.head(15))\n"
   ]
  },
  {
   "cell_type": "code",
   "execution_count": 1,
   "metadata": {},
   "outputs": [
    {
     "name": "stdout",
     "output_type": "stream",
     "text": [
      "Medal    Bronze    Gold  Silver  Unique  Totals\n",
      "Country                                        \n",
      "USA      1098.0  2235.0  1252.0      34  4585.0\n",
      "URS       584.0   838.0   627.0      21  2049.0\n",
      "GBR       553.0   546.0   621.0      33  1720.0\n",
      "FRA       497.0   408.0   491.0      29  1396.0\n",
      "GER       475.0   452.0   378.0      27  1305.0\n",
      "ITA       404.0   476.0   416.0      22  1296.0\n",
      "AUS       472.0   312.0   405.0      23  1189.0\n",
      "HUN       351.0   412.0   316.0      18  1079.0\n",
      "SWE       328.0   349.0   367.0      22  1044.0\n",
      "NED       339.0   233.0   279.0      20   851.0\n",
      "GDR       225.0   329.0   271.0      16   825.0\n",
      "CHN       221.0   290.0   296.0      25   807.0\n",
      "JPN       303.0   213.0   272.0      22   788.0\n",
      "RUS       291.0   239.0   238.0      22   768.0\n",
      "CAN       262.0   155.0   232.0      23   649.0\n"
     ]
    }
   ],
   "source": [
    "import pandas as pd \n",
    "\n",
    "medals = pd.read_csv('Summer.csv')\n",
    "\n",
    "# Construct the pivot table: counted\n",
    "counted = medals.pivot_table(index=\"Country\",columns='Medal',values='Athlete',aggfunc='count')\n",
    "\n",
    "# Group medals by 'Country': country_grouped\n",
    "country_grouped = medals.groupby('Country')\n",
    "\n",
    "# Compute the number of distinct sports in which each country won medals: Nsports\n",
    "Nsports = country_grouped['Sport'].nunique()\n",
    "\n",
    "# Create the new column: counted['Unique']\n",
    "counted['Unique'] = Nsports\n",
    "\n",
    "# Create the new column: counted['Totals']\n",
    "counted['Totals'] = counted[['Gold', 'Silver', 'Bronze']].sum(axis='columns')\n",
    "\n",
    "# Sort counted by the 'totals' column\n",
    "counted = counted.sort_values('Totals', ascending=False)\n",
    "\n",
    "# Print the top 15 rows of counted\n",
    "print(counted.head(15))"
   ]
  },
  {
   "cell_type": "code",
   "execution_count": 3,
   "metadata": {},
   "outputs": [
    {
     "name": "stdout",
     "output_type": "stream",
     "text": [
      "Country\n",
      "URS    21\n",
      "USA    20\n",
      "Name: Unique Sports Won, dtype: int64\n",
      "Year\n",
      "1952    USA\n",
      "1956    URS\n",
      "1960    URS\n",
      "1964    URS\n",
      "1968    URS\n",
      "1972    URS\n",
      "1976    URS\n",
      "1980    URS\n",
      "1984    USA\n",
      "1988    URS\n",
      "Name: Country with most medals per year, dtype: object\n",
      "URS    8\n",
      "USA    2\n",
      "Name: Country with most medals per year, dtype: int64\n"
     ]
    }
   ],
   "source": [
    "import pandas as pd \n",
    "\n",
    "medals = pd.read_csv('summer.csv')\n",
    "\n",
    "# Extract all rows for which the 'Year' is between 1952 & 1988: during_cold_war\n",
    "during_cold_war = (medals.Year >= 1952) & (medals.Year <= 1988)\n",
    "\n",
    "# Extract rows for which 'Country' is either 'USA' or 'URS': is_usa_urs\n",
    "is_usa_urs = medals.Country.isin(['USA', 'URS'])\n",
    "\n",
    "# Use during_cold_war and is_usa_urs to create the DataFrame: cold_war_medals\n",
    "cold_war_medals = medals.loc[during_cold_war & is_usa_urs]\n",
    "\n",
    "# Group cold_war_medals by 'NOC'\n",
    "country_grouped = cold_war_medals.groupby('Country')\n",
    "\n",
    "# Create Nsports\n",
    "Nsports = country_grouped['Sport'].nunique().sort_values(ascending=False)\n",
    "\n",
    "Nsports = Nsports.rename('Unique Sports Won')\n",
    "\n",
    "# Print Nsports\n",
    "print(Nsports)\n",
    "\n",
    "\n",
    "# Create the pivot table: medals_won_by_country\n",
    "medals_won_by_country = medals.pivot_table(index='Year',columns='Country',values='Athlete',aggfunc='count')\n",
    "\n",
    "# Slice medals_won_by_country: cold_war_usa_usr_medals\n",
    "cold_war_usa_usr_medals = medals_won_by_country.loc[1952:1988, ['USA','URS']]\n",
    "\n",
    "# Create most_medals \n",
    "most_medals = cold_war_usa_usr_medals.idxmax(axis='columns')\n",
    "most_medals = most_medals.rename('Country with most medals per year')\n",
    "\n",
    "# Print most_medals & most_medals.value_counts()\n",
    "print(most_medals)\n",
    "print(most_medals.value_counts())\n"
   ]
  },
  {
   "cell_type": "code",
   "execution_count": 7,
   "metadata": {},
   "outputs": [
    {
     "name": "stdout",
     "output_type": "stream",
     "text": [
      "Medal  Bronze  Silver  Gold\n",
      "Year                       \n",
      "1896        2       7    11\n",
      "1900       14      14    27\n",
      "1904      111     137   146\n",
      "1908       15      14    34\n",
      "1912       31      25    45\n",
      "1920       38      45   110\n",
      "1924       51      37   110\n",
      "1928       17      24    43\n",
      "1932       59      44    78\n",
      "1936       15      26    51\n",
      "1948       35      30    83\n",
      "1952       28      23    79\n",
      "1956       20      37    61\n",
      "1960       21      23    68\n",
      "1964       36      36    78\n",
      "1968       35      31    83\n",
      "1972       43      59    53\n",
      "1976       36      56    63\n",
      "1984       50     115   168\n",
      "1988       52      64    77\n",
      "1992       85      50    89\n",
      "1996       52      48   160\n",
      "2000       52      66   130\n",
      "2004       73      75   116\n",
      "2008       81     109   125\n",
      "2012       46      57   147\n"
     ]
    },
    {
     "data": {
      "image/png": "[encoded data removed]",
      "text/plain": [
       "<matplotlib.figure.Figure at 0x10b1555c0>"
      ]
     },
     "metadata": {},
     "output_type": "display_data"
    }
   ],
   "source": [
    "import pandas as pd \n",
    "import matplotlib.pyplot as plt\n",
    "\n",
    "\n",
    "medals = pd.read_csv('summer.csv')\n",
    "\n",
    "#Make medals['Medal'] categorical\n",
    "medals.Medal = pd.Categorical(values=medals.Medal, categories=['Bronze', 'Silver', 'Gold'], ordered=True)\n",
    "\n",
    "# Create the DataFrame: usa\n",
    "usa = medals[medals['Country'] == 'USA']\n",
    "\n",
    "# Group usa by ['Edition', 'Medal'] and aggregate over 'Athlete'\n",
    "usa_medals_by_year = usa.groupby(['Year', 'Medal'])['Athlete'].count()\n",
    "\n",
    "# Reshape usa_medals_by_year by unstacking\n",
    "usa_medals_by_year = usa_medals_by_year.unstack(level='Medal')\n",
    "\n",
    "print(usa_medals_by_year)\n",
    "\n",
    "\n",
    "# Plot the DataFrame usa_medals_by_year\n",
    "plt.style.use('ggplot')\n",
    "usa_medals_by_year.plot.area()\n",
    "\n",
    "plt.show()"
   ]
  }
 ],
 "metadata": {
  "kernelspec": {
   "display_name": "Python 3",
   "language": "python",
   "name": "python3"
  },
  "language_info": {
   "codemirror_mode": {
    "name": "ipython",
    "version": 3
   },
   "file_extension": ".py",
   "mimetype": "text/x-python",
   "name": "python",
   "nbconvert_exporter": "python",
   "pygments_lexer": "ipython3",
   "version": "3.6.4"
  }
 },
 "nbformat": 4,
 "nbformat_minor": 2
}
